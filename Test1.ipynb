{
    "cells": [
        {
            "cell_type": "markdown",
            "metadata": {},
            "source": "Test Cell "
        },
        {
            "cell_type": "code",
            "execution_count": 1,
            "metadata": {},
            "outputs": [
                {
                    "data": {
                        "text/html": "<div>\n<style scoped>\n    .dataframe tbody tr th:only-of-type {\n        vertical-align: middle;\n    }\n\n    .dataframe tbody tr th {\n        vertical-align: top;\n    }\n\n    .dataframe thead th {\n        text-align: right;\n    }\n</style>\n<table border=\"1\" class=\"dataframe\">\n  <thead>\n    <tr style=\"text-align: right;\">\n      <th></th>\n      <th>Order Number</th>\n      <th>Order Date</th>\n      <th>Status</th>\n      <th>Order Total</th>\n      <th>Requested Service</th>\n      <th>Shipping Cost</th>\n      <th>Custom 1</th>\n      <th>Custom 2</th>\n      <th>Custom 3</th>\n      <th>Item Name</th>\n      <th>...</th>\n      <th>Address Line 1</th>\n      <th>Address Line 2</th>\n      <th>City</th>\n      <th>State/Province</th>\n      <th>Zip/Postal Code</th>\n      <th>Country</th>\n      <th>Company</th>\n      <th>Email</th>\n      <th>Phone</th>\n      <th>Notes</th>\n    </tr>\n  </thead>\n  <tbody>\n    <tr>\n      <th>0</th>\n      <td>1616</td>\n      <td>11/1/2017</td>\n      <td>pending</td>\n      <td>25.0</td>\n      <td>First Class</td>\n      <td>0.0</td>\n      <td>NaN</td>\n      <td>NaN</td>\n      <td>NaN</td>\n      <td>Computer Mouse</td>\n      <td>...</td>\n      <td>609 Castle Ridge Rd</td>\n      <td>Suite 445</td>\n      <td>Austin</td>\n      <td>TX</td>\n      <td>78746.0</td>\n      <td>United States</td>\n      <td>Patty Jams</td>\n      <td>patty@pattyjams.com</td>\n      <td>9.796666e+09</td>\n      <td>Needs the order by 11/3/2017</td>\n    </tr>\n    <tr>\n      <th>1</th>\n      <td>1615</td>\n      <td>11/2/2017</td>\n      <td>pending</td>\n      <td>25.0</td>\n      <td>First Class</td>\n      <td>0.0</td>\n      <td>NaN</td>\n      <td>NaN</td>\n      <td>NaN</td>\n      <td>Computer Mouse</td>\n      <td>...</td>\n      <td>3801 Wilson</td>\n      <td>NaN</td>\n      <td>Austin</td>\n      <td>TX</td>\n      <td>78704.0</td>\n      <td>United States</td>\n      <td>NaN</td>\n      <td>paulof@gmail.com</td>\n      <td>5.647776e+09</td>\n      <td>NaN</td>\n    </tr>\n    <tr>\n      <th>2</th>\n      <td>1614</td>\n      <td>11/2/2017</td>\n      <td>unfulfilled</td>\n      <td>87.1</td>\n      <td>Express</td>\n      <td>22.3</td>\n      <td>NaN</td>\n      <td>NaN</td>\n      <td>NaN</td>\n      <td>iPhone 4S cover. Blue</td>\n      <td>...</td>\n      <td>600 California</td>\n      <td>NaN</td>\n      <td>San Francisco</td>\n      <td>CA</td>\n      <td>94108.0</td>\n      <td>United States</td>\n      <td>NaN</td>\n      <td>Gerry@example.com</td>\n      <td>8.752223e+09</td>\n      <td>NaN</td>\n    </tr>\n    <tr>\n      <th>3</th>\n      <td>1614</td>\n      <td>NaN</td>\n      <td>NaN</td>\n      <td>NaN</td>\n      <td>NaN</td>\n      <td>NaN</td>\n      <td>NaN</td>\n      <td>NaN</td>\n      <td>NaN</td>\n      <td>Computer Mouse</td>\n      <td>...</td>\n      <td>NaN</td>\n      <td>NaN</td>\n      <td>NaN</td>\n      <td>NaN</td>\n      <td>NaN</td>\n      <td>NaN</td>\n      <td>NaN</td>\n      <td>NaN</td>\n      <td>NaN</td>\n      <td>NaN</td>\n    </tr>\n  </tbody>\n</table>\n<p>4 rows \u00d7 28 columns</p>\n</div>",
                        "text/plain": "   Order Number Order Date       Status  Order Total Requested Service  \\\n0          1616  11/1/2017      pending         25.0       First Class   \n1          1615  11/2/2017      pending         25.0       First Class   \n2          1614  11/2/2017  unfulfilled         87.1           Express   \n3          1614        NaN          NaN          NaN               NaN   \n\n   Shipping Cost  Custom 1  Custom 2  Custom 3              Item Name  ...  \\\n0            0.0       NaN       NaN       NaN         Computer Mouse  ...   \n1            0.0       NaN       NaN       NaN         Computer Mouse  ...   \n2           22.3       NaN       NaN       NaN  iPhone 4S cover. Blue  ...   \n3            NaN       NaN       NaN       NaN         Computer Mouse  ...   \n\n        Address Line 1  Address Line 2           City  State/Province  \\\n0  609 Castle Ridge Rd       Suite 445         Austin              TX   \n1          3801 Wilson             NaN         Austin              TX   \n2       600 California             NaN  San Francisco              CA   \n3                  NaN             NaN            NaN             NaN   \n\n  Zip/Postal Code        Country     Company                Email  \\\n0         78746.0  United States  Patty Jams  patty@pattyjams.com   \n1         78704.0  United States         NaN     paulof@gmail.com   \n2         94108.0  United States         NaN    Gerry@example.com   \n3             NaN            NaN         NaN                  NaN   \n\n          Phone                         Notes  \n0  9.796666e+09  Needs the order by 11/3/2017  \n1  5.647776e+09                           NaN  \n2  8.752223e+09                           NaN  \n3           NaN                           NaN  \n\n[4 rows x 28 columns]"
                    },
                    "execution_count": 1,
                    "metadata": {},
                    "output_type": "execute_result"
                }
            ],
            "source": "# The code was removed by Watson Studio for sharing."
        },
        {
            "cell_type": "code",
            "execution_count": null,
            "metadata": {},
            "outputs": [],
            "source": ""
        }
    ],
    "metadata": {
        "kernelspec": {
            "display_name": "Python 3.6",
            "language": "python",
            "name": "python3"
        },
        "language_info": {
            "codemirror_mode": {
                "name": "ipython",
                "version": 3
            },
            "file_extension": ".py",
            "mimetype": "text/x-python",
            "name": "python",
            "nbconvert_exporter": "python",
            "pygments_lexer": "ipython3",
            "version": "3.6.9"
        }
    },
    "nbformat": 4,
    "nbformat_minor": 1
}